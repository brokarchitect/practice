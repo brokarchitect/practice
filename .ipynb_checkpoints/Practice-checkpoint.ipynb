{
 "cells": [
  {
   "cell_type": "code",
   "execution_count": 5,
   "metadata": {},
   "outputs": [
    {
     "name": "stdout",
     "output_type": "stream",
     "text": [
      "{'Name': 'Martin', 'Profession': 'Doctor', 'Age': '36', 'Residence': 'Kilimani', 'Marital Status': 'Married'}\n"
     ]
    }
   ],
   "source": [
    "#concatenation of dictionaries to create a new dictionary\n",
    "\n",
    "dict_1 = {'Name': 'Martin', 'Profession': 'Doctor'}\n",
    "dict_2 = {'Age': '36', 'Residence': 'Kilimani','Marital Status': 'Married'}\n",
    "dict_3 = {}\n",
    "\n",
    "for d in (dict_1, dict_2):\n",
    "    dict_3.update(d)     #.update() method is used\n",
    "print(dict_3)"
   ]
  },
  {
   "cell_type": "code",
   "execution_count": 7,
   "metadata": {},
   "outputs": [
    {
     "name": "stdout",
     "output_type": "stream",
     "text": [
      "{'Name': 'Martin', 'Profession': 'Doctor', 'Age': '36', 'Residence': 'Kilimani', 'Marital Status': 'Married', 'Offspring': 2}\n"
     ]
    }
   ],
   "source": [
    "#Write a Python script to add a key to a dictionary\n",
    "#Taking dict_3 as my dictionary;\n",
    "\n",
    "dict_3['Offspring'] = 2     \n",
    "print(dict_3)   "
   ]
  },
  {
   "cell_type": "code",
   "execution_count": 18,
   "metadata": {},
   "outputs": [
    {
     "name": "stdout",
     "output_type": "stream",
     "text": [
      "{'Name': 'Martin', 'Profession': 'Doctor', 'Age': '36', 'Residence': 'Kilimani', 'Marital Status': 'Married', 'Offspring': 2}\n"
     ]
    }
   ],
   "source": [
    "#method 2: .update() method to add key:value entry \n",
    "#NOTE: Changes to dict_3 aren't saved in this cell hence go ahead and employ .update()\n",
    "\n",
    "dict_3.update({'Offspring': 2})\n",
    "print(dict_3)\n"
   ]
  },
  {
   "cell_type": "code",
   "execution_count": 23,
   "metadata": {},
   "outputs": [
    {
     "name": "stdout",
     "output_type": "stream",
     "text": [
      "None\n",
      "2\n"
     ]
    }
   ],
   "source": [
    "#Write a Python script to check whether a given key already exists in a dictionary - Check for 'Offspring' and 'Salary' \n",
    "#Use .get() method\n",
    "print(dict_3.get('Salary'))\n",
    "print(dict_3.get('Offspring'))"
   ]
  },
  {
   "cell_type": "code",
   "execution_count": 29,
   "metadata": {},
   "outputs": [
    {
     "name": "stdout",
     "output_type": "stream",
     "text": [
      "{'Name': 'Martin', 'Profession': 'Doctor', 'Age': '36', 'Residence': 'Kilimani', 'Marital Status': 'Married'}\n"
     ]
    }
   ],
   "source": [
    "#deleting a dictionary key using 'del' keyword\n",
    "\n",
    "#del dict_3['Offspring']\n",
    "print(dict_3)"
   ]
  }
 ],
 "metadata": {
  "kernelspec": {
   "display_name": "Python (learn-env)",
   "language": "python",
   "name": "learn-env"
  },
  "language_info": {
   "codemirror_mode": {
    "name": "ipython",
    "version": 3
   },
   "file_extension": ".py",
   "mimetype": "text/x-python",
   "name": "python",
   "nbconvert_exporter": "python",
   "pygments_lexer": "ipython3",
   "version": "3.8.5"
  }
 },
 "nbformat": 4,
 "nbformat_minor": 4
}
